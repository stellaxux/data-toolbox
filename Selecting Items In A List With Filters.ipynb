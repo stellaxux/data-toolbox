{
 "cells": [
  {
   "cell_type": "markdown",
   "metadata": {},
   "source": [
    "## Selecting Items In A List With Filters"
   ]
  },
  {
   "cell_type": "code",
   "execution_count": 2,
   "metadata": {
    "collapsed": false
   },
   "outputs": [
    {
     "data": {
      "text/plain": [
       "[5345, 6436, 3453, 2352, 5212, 6232, 2124, 3425, 1200, 1000, 1211]"
      ]
     },
     "execution_count": 2,
     "metadata": {},
     "output_type": "execute_result"
    }
   ],
   "source": [
    "# Create an list of items denoting the number of soldiers in each regiment, view the list\n",
    "regimentSize = [5345, 6436, 3453, 2352, 5212, 6232, 2124, 3425, 1200, 1000, 1211] \n",
    "regimentSize"
   ]
  },
  {
   "cell_type": "markdown",
   "metadata": {},
   "source": [
    "#### One-line Method"
   ]
  },
  {
   "cell_type": "code",
   "execution_count": 3,
   "metadata": {
    "collapsed": false
   },
   "outputs": [
    {
     "data": {
      "text/plain": [
       "[2352, 2124, 1200, 1000, 1211]"
      ]
     },
     "execution_count": 3,
     "metadata": {},
     "output_type": "execute_result"
    }
   ],
   "source": [
    "# Create a list called smallRegiments that filters regimentSize < 2500 using lambda function \n",
    "\n",
    "smallRegiments = filter((lambda x: x < 2500), regimentSize)\n",
    "smallRegiments"
   ]
  },
  {
   "cell_type": "markdown",
   "metadata": {},
   "source": [
    "#### Multi-line Method\n",
    "The one-line filter method can be broken down into multiple steps, one per line of code."
   ]
  },
  {
   "cell_type": "code",
   "execution_count": 4,
   "metadata": {
    "collapsed": true
   },
   "outputs": [],
   "source": [
    "# Create a lambda function that looks for things under 2500\n",
    "lessThan2500Filter = lambda x: x < 2500"
   ]
  },
  {
   "cell_type": "code",
   "execution_count": 5,
   "metadata": {
    "collapsed": false
   },
   "outputs": [
    {
     "data": {
      "text/plain": [
       "[2352, 2124, 1200, 1000, 1211]"
      ]
     },
     "execution_count": 5,
     "metadata": {},
     "output_type": "execute_result"
    }
   ],
   "source": [
    "# Filter regimentSize by the lambda function filter\n",
    "smallRegiments = filter(lessThan2500Filter, regimentSize)\n",
    "smallRegiments"
   ]
  },
  {
   "cell_type": "markdown",
   "metadata": {
    "collapsed": true
   },
   "source": [
    "#### For Loop Equivalent\n",
    "\n",
    "This for loop does the same as both methods above, except it uses a for loop."
   ]
  },
  {
   "cell_type": "code",
   "execution_count": 6,
   "metadata": {
    "collapsed": true
   },
   "outputs": [],
   "source": [
    "# Create a for loop that go through each item of a list and finds items under 2500\n",
    "\n",
    "# Create a variable for the results of the loop to be placed\n",
    "smallRegiments_2 = []\n",
    "\n",
    "# for each item in regimentSize,\n",
    "for x in regimentSize:\n",
    "    # look if the item's value is less than 2500\n",
    "    if x < 2500:\n",
    "        # if true, add that item to smallRegiments_2\n",
    "        smallRegiments_2.append(x)\n"
   ]
  },
  {
   "cell_type": "code",
   "execution_count": 7,
   "metadata": {
    "collapsed": false
   },
   "outputs": [
    {
     "data": {
      "text/plain": [
       "[2352, 2124, 1200, 1000, 1211]"
      ]
     },
     "execution_count": 7,
     "metadata": {},
     "output_type": "execute_result"
    }
   ],
   "source": [
    "smallRegiments_2"
   ]
  }
 ],
 "metadata": {
  "anaconda-cloud": {},
  "kernelspec": {
   "display_name": "Python [Root]",
   "language": "python",
   "name": "Python [Root]"
  },
  "language_info": {
   "codemirror_mode": {
    "name": "ipython",
    "version": 2
   },
   "file_extension": ".py",
   "mimetype": "text/x-python",
   "name": "python",
   "nbconvert_exporter": "python",
   "pygments_lexer": "ipython2",
   "version": "2.7.11"
  }
 },
 "nbformat": 4,
 "nbformat_minor": 0
}
