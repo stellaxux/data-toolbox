{
 "cells": [
  {
   "cell_type": "markdown",
   "metadata": {
    "collapsed": true
   },
   "source": [
    "- Geocoding: converting a phyiscal address or location into latitude/longitude.\n",
    "- Reverse geocoding: converting a lat/long to a phyiscal address or location\n",
    "\n",
    "Python offers a number of packages to make the task  easy. Here I'm using pygeocoder, a wrapper for Google's geo-API, to demonstrate how geocoding and reverse geocoding work."
   ]
  },
  {
   "cell_type": "markdown",
   "metadata": {},
   "source": [
    "# Geocoding"
   ]
  },
  {
   "cell_type": "code",
   "execution_count": 1,
   "metadata": {
    "collapsed": true
   },
   "outputs": [],
   "source": [
    "# Load packages:\n",
    "# pygeocoder for its geo-functionality\n",
    "# pandas for dataframe structures\n",
    "# numpy for dealing with missing value (np.nan) \n",
    "from pygeocoder import Geocoder\n",
    "import pandas as pd\n",
    "import numpy as np"
   ]
  },
  {
   "cell_type": "markdown",
   "metadata": {},
   "source": [
    "### Create some simulated geo data\n",
    "\n",
    "Geo-data usually consist of latitude and longitude strings, with each coordinate in a coordinate pair seperated by a comma. For demonstration, prepare a dictionary of five latitude and longitude strings. "
   ]
  },
  {
   "cell_type": "code",
   "execution_count": 2,
   "metadata": {
    "collapsed": true
   },
   "outputs": [],
   "source": [
    "# Create a dictionary of raw data\n",
    "data = {'Site 1': '31.336968, -109.560959',\n",
    "        'Site 2': '31.347745, -108.229963',\n",
    "        'Site 3': '32.277621, -107.734724',\n",
    "        'Site 4': '31.655494, -106.420484',\n",
    "        'Site 5': '30.295053, -104.014528'}"
   ]
  },
  {
   "cell_type": "code",
   "execution_count": 3,
   "metadata": {
    "collapsed": true
   },
   "outputs": [],
   "source": [
    "# Convert the dictionary of raw data into a pandas dataframe\n",
    "df = pd.DataFrame.from_dict(data, orient='index')"
   ]
  },
  {
   "cell_type": "code",
   "execution_count": 4,
   "metadata": {
    "collapsed": false
   },
   "outputs": [
    {
     "data": {
      "text/html": [
       "<div>\n",
       "<table border=\"1\" class=\"dataframe\">\n",
       "  <thead>\n",
       "    <tr style=\"text-align: right;\">\n",
       "      <th></th>\n",
       "      <th>0</th>\n",
       "    </tr>\n",
       "  </thead>\n",
       "  <tbody>\n",
       "    <tr>\n",
       "      <th>Site 5</th>\n",
       "      <td>30.295053, -104.014528</td>\n",
       "    </tr>\n",
       "    <tr>\n",
       "      <th>Site 4</th>\n",
       "      <td>31.655494, -106.420484</td>\n",
       "    </tr>\n",
       "    <tr>\n",
       "      <th>Site 3</th>\n",
       "      <td>32.277621, -107.734724</td>\n",
       "    </tr>\n",
       "    <tr>\n",
       "      <th>Site 2</th>\n",
       "      <td>31.347745, -108.229963</td>\n",
       "    </tr>\n",
       "    <tr>\n",
       "      <th>Site 1</th>\n",
       "      <td>31.336968, -109.560959</td>\n",
       "    </tr>\n",
       "  </tbody>\n",
       "</table>\n",
       "</div>"
      ],
      "text/plain": [
       "                             0\n",
       "Site 5  30.295053, -104.014528\n",
       "Site 4  31.655494, -106.420484\n",
       "Site 3  32.277621, -107.734724\n",
       "Site 2  31.347745, -108.229963\n",
       "Site 1  31.336968, -109.560959"
      ]
     },
     "execution_count": 4,
     "metadata": {},
     "output_type": "execute_result"
    }
   ],
   "source": [
    "# View the dataframe\n",
    "df"
   ]
  },
  {
   "cell_type": "markdown",
   "metadata": {},
   "source": [
    "As shown above, we have a dataframe with five rows, with each row containing a string of latitude and longitude. Before we can work with the data, we'll need to \n",
    "- seperate the strings into latitude and longitude\n",
    "- convert them into floats"
   ]
  },
  {
   "cell_type": "code",
   "execution_count": 5,
   "metadata": {
    "collapsed": true
   },
   "outputs": [],
   "source": [
    "# Create two empty lists for the loop results to be placed\n",
    "lat = []\n",
    "lon = []\n",
    "\n",
    "# For each row in a varible,\n",
    "for row in df[0]:\n",
    "    # Try to,\n",
    "    try:\n",
    "        # Split the row by comma, convert to float, and append\n",
    "        # everything before the comma to lat\n",
    "        lat.append(float(row.split(',')[0]))\n",
    "        \n",
    "        # Split the row by comma, convert to float, and append\n",
    "        # everything after the comma to lon\n",
    "        lon.append(float(row.split(',')[1]))\n",
    "    # But an error occurs\n",
    "    except:\n",
    "        # append a missing value to lat\n",
    "        lat.append(np.NaN)\n",
    "        # append a missing value to lon\n",
    "        lon.append(np.NaN)"
   ]
  },
  {
   "cell_type": "code",
   "execution_count": 6,
   "metadata": {
    "collapsed": true
   },
   "outputs": [],
   "source": [
    "# Create two new columns from lat and lon\n",
    "df['latitude'] = lat\n",
    "df['longitude'] = lon"
   ]
  },
  {
   "cell_type": "code",
   "execution_count": 7,
   "metadata": {
    "collapsed": false
   },
   "outputs": [
    {
     "data": {
      "text/html": [
       "<div>\n",
       "<table border=\"1\" class=\"dataframe\">\n",
       "  <thead>\n",
       "    <tr style=\"text-align: right;\">\n",
       "      <th></th>\n",
       "      <th>0</th>\n",
       "      <th>latitude</th>\n",
       "      <th>longitude</th>\n",
       "    </tr>\n",
       "  </thead>\n",
       "  <tbody>\n",
       "    <tr>\n",
       "      <th>Site 5</th>\n",
       "      <td>30.295053, -104.014528</td>\n",
       "      <td>30.295053</td>\n",
       "      <td>-104.014528</td>\n",
       "    </tr>\n",
       "    <tr>\n",
       "      <th>Site 4</th>\n",
       "      <td>31.655494, -106.420484</td>\n",
       "      <td>31.655494</td>\n",
       "      <td>-106.420484</td>\n",
       "    </tr>\n",
       "    <tr>\n",
       "      <th>Site 3</th>\n",
       "      <td>32.277621, -107.734724</td>\n",
       "      <td>32.277621</td>\n",
       "      <td>-107.734724</td>\n",
       "    </tr>\n",
       "    <tr>\n",
       "      <th>Site 2</th>\n",
       "      <td>31.347745, -108.229963</td>\n",
       "      <td>31.347745</td>\n",
       "      <td>-108.229963</td>\n",
       "    </tr>\n",
       "    <tr>\n",
       "      <th>Site 1</th>\n",
       "      <td>31.336968, -109.560959</td>\n",
       "      <td>31.336968</td>\n",
       "      <td>-109.560959</td>\n",
       "    </tr>\n",
       "  </tbody>\n",
       "</table>\n",
       "</div>"
      ],
      "text/plain": [
       "                             0   latitude   longitude\n",
       "Site 5  30.295053, -104.014528  30.295053 -104.014528\n",
       "Site 4  31.655494, -106.420484  31.655494 -106.420484\n",
       "Site 3  32.277621, -107.734724  32.277621 -107.734724\n",
       "Site 2  31.347745, -108.229963  31.347745 -108.229963\n",
       "Site 1  31.336968, -109.560959  31.336968 -109.560959"
      ]
     },
     "execution_count": 7,
     "metadata": {},
     "output_type": "execute_result"
    }
   ],
   "source": [
    "df"
   ]
  },
  {
   "cell_type": "markdown",
   "metadata": {},
   "source": [
    "# Reverse Geocoding"
   ]
  },
  {
   "cell_type": "code",
   "execution_count": null,
   "metadata": {
    "collapsed": true
   },
   "outputs": [],
   "source": []
  }
 ],
 "metadata": {
  "anaconda-cloud": {},
  "kernelspec": {
   "display_name": "Python [Root]",
   "language": "python",
   "name": "Python [Root]"
  },
  "language_info": {
   "codemirror_mode": {
    "name": "ipython",
    "version": 2
   },
   "file_extension": ".py",
   "mimetype": "text/x-python",
   "name": "python",
   "nbconvert_exporter": "python",
   "pygments_lexer": "ipython2",
   "version": "2.7.11"
  }
 },
 "nbformat": 4,
 "nbformat_minor": 0
}
