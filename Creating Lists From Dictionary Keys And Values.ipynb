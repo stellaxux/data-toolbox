{
 "cells": [
  {
   "cell_type": "markdown",
   "metadata": {},
   "source": [
    "### Create a dictionary"
   ]
  },
  {
   "cell_type": "code",
   "execution_count": 1,
   "metadata": {
    "collapsed": true
   },
   "outputs": [],
   "source": [
    "dict = {'county': ['Cochice', 'Pima', 'Santa Cruz', 'Maricopa', 'Yuma'], \n",
    "        'year': [2012, 2012, 2013, 2014, 2014], \n",
    "        'fireReports': [4, 24, 31, 2, 3]}"
   ]
  },
  {
   "cell_type": "markdown",
   "metadata": {},
   "source": [
    "### Create a list from the dictionary keys"
   ]
  },
  {
   "cell_type": "code",
   "execution_count": 2,
   "metadata": {
    "collapsed": false
   },
   "outputs": [
    {
     "data": {
      "text/plain": [
       "['county', 'fireReports', 'year']"
      ]
     },
     "execution_count": 2,
     "metadata": {},
     "output_type": "execute_result"
    }
   ],
   "source": [
    "# Create a list to place the dictionary keys in\n",
    "dictionaryKeys = []\n",
    "\n",
    "# For each key in the dictionary's keys,\n",
    "for key in dict.keys():\n",
    "    # add the key to dictionaryKeys\n",
    "    dictionaryKeys.append(key)\n",
    "\n",
    "# View the dictionaryKeys list\n",
    "dictionaryKeys"
   ]
  },
  {
   "cell_type": "markdown",
   "metadata": {},
   "source": [
    "### Create a list from the dictionary values"
   ]
  },
  {
   "cell_type": "code",
   "execution_count": 3,
   "metadata": {
    "collapsed": false
   },
   "outputs": [
    {
     "data": {
      "text/plain": [
       "[['Cochice', 'Pima', 'Santa Cruz', 'Maricopa', 'Yuma'],\n",
       " [4, 24, 31, 2, 3],\n",
       " [2012, 2012, 2013, 2014, 2014]]"
      ]
     },
     "execution_count": 3,
     "metadata": {},
     "output_type": "execute_result"
    }
   ],
   "source": [
    "# Create a list to place the dictionary values in\n",
    "dictionaryValues = []\n",
    "\n",
    "# For each key in the dictionary's Values,\n",
    "for x in dict.values():\n",
    "    # add the key to dictionaryValues\n",
    "    dictionaryValues.append(x)\n",
    "\n",
    "# View the dictionaryValues list\n",
    "dictionaryValues"
   ]
  }
 ],
 "metadata": {
  "anaconda-cloud": {},
  "kernelspec": {
   "display_name": "Python [Root]",
   "language": "python",
   "name": "Python [Root]"
  },
  "language_info": {
   "codemirror_mode": {
    "name": "ipython",
    "version": 2
   },
   "file_extension": ".py",
   "mimetype": "text/x-python",
   "name": "python",
   "nbconvert_exporter": "python",
   "pygments_lexer": "ipython2",
   "version": "2.7.11"
  }
 },
 "nbformat": 4,
 "nbformat_minor": 0
}
